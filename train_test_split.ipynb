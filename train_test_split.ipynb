{
 "cells": [
  {
   "cell_type": "code",
   "execution_count": 1,
   "metadata": {},
   "outputs": [],
   "source": [
    "import pandas as pd"
   ]
  },
  {
   "cell_type": "code",
   "execution_count": 4,
   "metadata": {},
   "outputs": [
    {
     "data": {
      "text/html": [
       "<div>\n",
       "<style scoped>\n",
       "    .dataframe tbody tr th:only-of-type {\n",
       "        vertical-align: middle;\n",
       "    }\n",
       "\n",
       "    .dataframe tbody tr th {\n",
       "        vertical-align: top;\n",
       "    }\n",
       "\n",
       "    .dataframe thead th {\n",
       "        text-align: right;\n",
       "    }\n",
       "</style>\n",
       "<table border=\"1\" class=\"dataframe\">\n",
       "  <thead>\n",
       "    <tr style=\"text-align: right;\">\n",
       "      <th></th>\n",
       "      <th>HoTen_MSSV</th>\n",
       "      <th>ThoiGian</th>\n",
       "      <th>NoiDung</th>\n",
       "      <th>TuongTac</th>\n",
       "      <th>Nhom</th>\n",
       "    </tr>\n",
       "  </thead>\n",
       "  <tbody>\n",
       "    <tr>\n",
       "      <th>0</th>\n",
       "      <td>Pham Trung Hieu 20173873</td>\n",
       "      <td>2021-11-11 08:18:41</td>\n",
       "      <td>thử ms teams hỗ_trợ seb thầy_cô dev seb hay_sao</td>\n",
       "      <td>0.0</td>\n",
       "      <td>Hỗ trợ kỹ thuật Thi trắc nghiệm Online</td>\n",
       "    </tr>\n",
       "    <tr>\n",
       "      <th>1</th>\n",
       "      <td>Nguyen Minh Hieu 20173881</td>\n",
       "      <td>2021-10-23 20:27:00</td>\n",
       "      <td>sửa lỗi y_như ko sửa kiểu mấy bữa bình_thường</td>\n",
       "      <td>0.0</td>\n",
       "      <td>Hỗ trợ kỹ thuật Thi trắc nghiệm Online</td>\n",
       "    </tr>\n",
       "    <tr>\n",
       "      <th>2</th>\n",
       "      <td>Tran Thi Phuong Hang 20213331</td>\n",
       "      <td>2021-10-21 19:25:50</td>\n",
       "      <td>đường_dẫn cài mạng đường_dẫn cảm_ơn</td>\n",
       "      <td>0.0</td>\n",
       "      <td>Hỗ trợ kỹ thuật Thi trắc nghiệm Online</td>\n",
       "    </tr>\n",
       "    <tr>\n",
       "      <th>3</th>\n",
       "      <td>Nguyen Trung Nghia 20212906</td>\n",
       "      <td>2021-10-03 20:06:27</td>\n",
       "      <td>thầy tải thitracnghiem seb tự_động dạng_bản word</td>\n",
       "      <td>0.0</td>\n",
       "      <td>Hỗ trợ kỹ thuật Thi trắc nghiệm Online</td>\n",
       "    </tr>\n",
       "    <tr>\n",
       "      <th>4</th>\n",
       "      <td>Dao Duy Phong</td>\n",
       "      <td>2021-10-02 22:02:06</td>\n",
       "      <td>thi môn trường có_thể 3 3 0 thi tiếng cla 3 3 ...</td>\n",
       "      <td>1.0</td>\n",
       "      <td>Hỗ trợ kỹ thuật Thi trắc nghiệm Online</td>\n",
       "    </tr>\n",
       "    <tr>\n",
       "      <th>...</th>\n",
       "      <td>...</td>\n",
       "      <td>...</td>\n",
       "      <td>...</td>\n",
       "      <td>...</td>\n",
       "      <td>...</td>\n",
       "    </tr>\n",
       "    <tr>\n",
       "      <th>3669</th>\n",
       "      <td>NGUYEN THAI SON 20185294</td>\n",
       "      <td>2018-08-22 23:14:18</td>\n",
       "      <td>lớp 02 me e1 đi ghé vô chút nha vui làm_quen ng</td>\n",
       "      <td>0.0</td>\n",
       "      <td>All Company</td>\n",
       "    </tr>\n",
       "    <tr>\n",
       "      <th>3670</th>\n",
       "      <td>NGUYEN NGOC TOAN 20185301</td>\n",
       "      <td>2018-08-22 22:19:34</td>\n",
       "      <td>chao moi nguoi</td>\n",
       "      <td>1.0</td>\n",
       "      <td>All Company</td>\n",
       "    </tr>\n",
       "    <tr>\n",
       "      <th>3671</th>\n",
       "      <td>NGUYEN DUC TRUNG 20184637</td>\n",
       "      <td>2018-08-22 20:50:28</td>\n",
       "      <td>hay_là lập group k63 cơ_điện_tử lớp 6 face đi</td>\n",
       "      <td>5.0</td>\n",
       "      <td>All Company</td>\n",
       "    </tr>\n",
       "    <tr>\n",
       "      <th>3672</th>\n",
       "      <td>Doan Quang Trung 20134147</td>\n",
       "      <td>2018-03-14 04:50:32</td>\n",
       "      <td>đại_hội xxi hội_sinh_viên việt nam trường đhbk...</td>\n",
       "      <td>2.0</td>\n",
       "      <td>All Company</td>\n",
       "    </tr>\n",
       "    <tr>\n",
       "      <th>3673</th>\n",
       "      <td>Trinh Hoang Anh 20172957</td>\n",
       "      <td>2017-11-07 09:43:32</td>\n",
       "      <td>hitanaxiooo</td>\n",
       "      <td>1.0</td>\n",
       "      <td>All Company</td>\n",
       "    </tr>\n",
       "  </tbody>\n",
       "</table>\n",
       "<p>3674 rows × 5 columns</p>\n",
       "</div>"
      ],
      "text/plain": [
       "                         HoTen_MSSV             ThoiGian  \\\n",
       "0          Pham Trung Hieu 20173873  2021-11-11 08:18:41   \n",
       "1         Nguyen Minh Hieu 20173881  2021-10-23 20:27:00   \n",
       "2     Tran Thi Phuong Hang 20213331  2021-10-21 19:25:50   \n",
       "3       Nguyen Trung Nghia 20212906  2021-10-03 20:06:27   \n",
       "4                     Dao Duy Phong  2021-10-02 22:02:06   \n",
       "...                             ...                  ...   \n",
       "3669       NGUYEN THAI SON 20185294  2018-08-22 23:14:18   \n",
       "3670      NGUYEN NGOC TOAN 20185301  2018-08-22 22:19:34   \n",
       "3671      NGUYEN DUC TRUNG 20184637  2018-08-22 20:50:28   \n",
       "3672      Doan Quang Trung 20134147  2018-03-14 04:50:32   \n",
       "3673       Trinh Hoang Anh 20172957  2017-11-07 09:43:32   \n",
       "\n",
       "                                                NoiDung  TuongTac  \\\n",
       "0       thử ms teams hỗ_trợ seb thầy_cô dev seb hay_sao       0.0   \n",
       "1         sửa lỗi y_như ko sửa kiểu mấy bữa bình_thường       0.0   \n",
       "2                   đường_dẫn cài mạng đường_dẫn cảm_ơn       0.0   \n",
       "3      thầy tải thitracnghiem seb tự_động dạng_bản word       0.0   \n",
       "4     thi môn trường có_thể 3 3 0 thi tiếng cla 3 3 ...       1.0   \n",
       "...                                                 ...       ...   \n",
       "3669    lớp 02 me e1 đi ghé vô chút nha vui làm_quen ng       0.0   \n",
       "3670                                     chao moi nguoi       1.0   \n",
       "3671      hay_là lập group k63 cơ_điện_tử lớp 6 face đi       5.0   \n",
       "3672  đại_hội xxi hội_sinh_viên việt nam trường đhbk...       2.0   \n",
       "3673                                        hitanaxiooo       1.0   \n",
       "\n",
       "                                        Nhom  \n",
       "0     Hỗ trợ kỹ thuật Thi trắc nghiệm Online  \n",
       "1     Hỗ trợ kỹ thuật Thi trắc nghiệm Online  \n",
       "2     Hỗ trợ kỹ thuật Thi trắc nghiệm Online  \n",
       "3     Hỗ trợ kỹ thuật Thi trắc nghiệm Online  \n",
       "4     Hỗ trợ kỹ thuật Thi trắc nghiệm Online  \n",
       "...                                      ...  \n",
       "3669                             All Company  \n",
       "3670                             All Company  \n",
       "3671                             All Company  \n",
       "3672                             All Company  \n",
       "3673                             All Company  \n",
       "\n",
       "[3674 rows x 5 columns]"
      ]
     },
     "execution_count": 4,
     "metadata": {},
     "output_type": "execute_result"
    }
   ],
   "source": [
    "df = pd.read_excel(\"merge_data.xlsx\")\n",
    "df"
   ]
  },
  {
   "cell_type": "code",
   "execution_count": 40,
   "metadata": {},
   "outputs": [
    {
     "data": {
      "text/plain": [
       "array(['Hỗ trợ kỹ thuật Thi trắc nghiệm Online',\n",
       "       'Hỗ trợ kỹ thuật Thi trắc nghiệm Online',\n",
       "       'Hỗ trợ kỹ thuật Thi trắc nghiệm Online', ..., 'All Company',\n",
       "       'All Company', 'All Company'], dtype=object)"
      ]
     },
     "execution_count": 40,
     "metadata": {},
     "output_type": "execute_result"
    }
   ],
   "source": [
    "y = df[\"Nhom\"].values\n",
    "y"
   ]
  },
  {
   "cell_type": "code",
   "execution_count": 41,
   "metadata": {},
   "outputs": [],
   "source": [
    "from sklearn.model_selection import train_test_split\n",
    "\n",
    "train_df, test_df = train_test_split(df, test_size=0.2, stratify=y)"
   ]
  },
  {
   "cell_type": "code",
   "execution_count": 44,
   "metadata": {},
   "outputs": [],
   "source": [
    "train_df.to_csv(\"data/train.csv\")\n",
    "test_df.to_csv(\"data/test.csv\")"
   ]
  },
  {
   "cell_type": "code",
   "execution_count": null,
   "metadata": {},
   "outputs": [],
   "source": []
  }
 ],
 "metadata": {
  "interpreter": {
   "hash": "1fd994f655624e4f816d1942c5dc41475ec138f5ecc69b7ed34fec683168459d"
  },
  "kernelspec": {
   "display_name": "Python 3.7.11 64-bit ('data-mining': conda)",
   "language": "python",
   "name": "python3"
  },
  "language_info": {
   "codemirror_mode": {
    "name": "ipython",
    "version": 3
   },
   "file_extension": ".py",
   "mimetype": "text/x-python",
   "name": "python",
   "nbconvert_exporter": "python",
   "pygments_lexer": "ipython3",
   "version": "3.7.11"
  },
  "orig_nbformat": 4
 },
 "nbformat": 4,
 "nbformat_minor": 2
}
