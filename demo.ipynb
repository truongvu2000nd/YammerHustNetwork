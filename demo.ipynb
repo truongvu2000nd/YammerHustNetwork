{
 "cells": [
  {
   "cell_type": "markdown",
   "metadata": {},
   "source": [
    "## Import dependencies"
   ]
  },
  {
   "cell_type": "code",
   "execution_count": 3,
   "metadata": {},
   "outputs": [],
   "source": [
    "import pandas as pd\n",
    "import numpy as np\n",
    "from preprocessing import text_preprocess\n",
    "from pprint import pprint"
   ]
  },
  {
   "cell_type": "markdown",
   "metadata": {},
   "source": [
    "### Test text preprocessing "
   ]
  },
  {
   "cell_type": "code",
   "execution_count": 5,
   "metadata": {},
   "outputs": [
    {
     "name": "stdout",
     "output_type": "stream",
     "text": [
      "tp hcm phạt đeo khẩu_trang công_cộng\n"
     ]
    }
   ],
   "source": [
    "document = \"\"\"\n",
    "TP HCM phạt người không đeo khẩu trang nơi công cộng\n",
    "\"\"\"\n",
    "\n",
    "document = text_preprocess(document)\n",
    "print(document)"
   ]
  },
  {
   "cell_type": "markdown",
   "metadata": {},
   "source": [
    "## Read test data"
   ]
  },
  {
   "cell_type": "code",
   "execution_count": 57,
   "metadata": {},
   "outputs": [
    {
     "name": "stdout",
     "output_type": "stream",
     "text": [
      "{'HoTen_MSSV': 'Trinh Thi Thu Uyen 20177008',\n",
      " 'Nhom': 'Phòng Đào tạo - Academic Affairs Office',\n",
      " 'NoiDung': 'Kính gửi thầy cô phòng đào tạo,\\n'\n",
      "            'Em tên là Trịnh Thị Thu Uyên, MSSV 20177008. Em có học học phần '\n",
      "            'Thể dục tay không để thay thế Giáo dục thể chất B và đăng kí tốt '\n",
      "            'nghiệp kì 20211A.  Nhưng khi em đăng kí xét tốt nghiệp thì  không '\n",
      "            'đạt đủ điều kiện do thiếu điểm PE1024, trong khi mã học phần Thể '\n",
      "            'dục tay không là PE1015. Vậy thầy cô cho em hỏi em có phải làm '\n",
      "            'đơn xin đổi học phần tương đương không ạ? Và hệ thống xét tốt '\n",
      "            'nghiệp không đạt thì trong bao lâu em có thể đăng kí xét tốt '\n",
      "            'nghiệp lại ạ? Vì hạn xét tốt nghiệp kì 20211A đến ngày 24/12 nên '\n",
      "            'em rất lo lắng không xét được tốt nghiệp tiếp ạ. Em xin cảm ơn '\n",
      "            'thầy cô đã giải đáp thắc mắc cho em.',\n",
      " 'ThoiGian': '2021/12/21 02:47:59 +0000',\n",
      " 'TuongTac': 3.0}\n"
     ]
    }
   ],
   "source": [
    "posts_test = pd.read_csv(\"posts_test.csv\")\n",
    "pprint(posts_test.iloc[1].to_dict())"
   ]
  },
  {
   "cell_type": "markdown",
   "metadata": {},
   "source": [
    "### Preprocess test data"
   ]
  },
  {
   "cell_type": "code",
   "execution_count": 56,
   "metadata": {},
   "outputs": [
    {
     "name": "stdout",
     "output_type": "stream",
     "text": [
      "{'HoTen_MSSV': 'Trinh Thi Thu Uyen 20177008',\n",
      " 'Nhom': 'Phòng Đào tạo - Academic Affairs Office',\n",
      " 'NoiDung': 'kính gửi thầy phòng đào_tạo trịnh thị thu uyên mssv 20177008 học '\n",
      "            'học_phần thể_dục thay_thế giáo_dục thể_chất b đăng_kí tốt_nghiệp '\n",
      "            'kì 20211 a đăng_kí xét tốt_nghiệp điều_kiện pe1024 mã học_phần '\n",
      "            'thể_dục pe1015 thầy_cô đơn đổi học_phần tương_đương hệ_thống xét '\n",
      "            'tốt_nghiệp bao_lâu có_thể đăng_kí xét tốt_nghiệp hạn xét '\n",
      "            'tốt_nghiệp kì 20211 a 2412 lo_lắng xét tốt_nghiệp tiếp cảm_ơn '\n",
      "            'thầy_cô giải_đáp thắc_mắc',\n",
      " 'ThoiGian': '2021/12/21 02:47:59 +0000',\n",
      " 'TuongTac': 3.0}\n"
     ]
    }
   ],
   "source": [
    "posts_test[\"NoiDung\"] = posts_test[\"NoiDung\"].apply(text_preprocess)\n",
    "pprint(posts_test.iloc[1].to_dict())"
   ]
  },
  {
   "cell_type": "code",
   "execution_count": null,
   "metadata": {},
   "outputs": [],
   "source": []
  }
 ],
 "metadata": {
  "interpreter": {
   "hash": "1fd994f655624e4f816d1942c5dc41475ec138f5ecc69b7ed34fec683168459d"
  },
  "kernelspec": {
   "display_name": "Python 3.7.11 64-bit ('data-mining': conda)",
   "language": "python",
   "name": "python3"
  },
  "language_info": {
   "codemirror_mode": {
    "name": "ipython",
    "version": 3
   },
   "file_extension": ".py",
   "mimetype": "text/x-python",
   "name": "python",
   "nbconvert_exporter": "python",
   "pygments_lexer": "ipython3",
   "version": "3.7.11"
  },
  "orig_nbformat": 4
 },
 "nbformat": 4,
 "nbformat_minor": 2
}
